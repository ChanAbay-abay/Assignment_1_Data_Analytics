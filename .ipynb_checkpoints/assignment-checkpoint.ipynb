{
 "cells": [
  {
   "cell_type": "markdown",
   "metadata": {},
   "source": [
    "## Assignment_1_Data_Analytics\n",
    "Task: Create python implementations of the procedures from \"Balanced Risk Set Matching\" by Yunfei Paul Li, Kathleen J. Propert, and Paul R. Rosenbaum\n",
    "\n",
    "# Contributors\n",
    "Christian Abay-abay & Thristan Jay Nakila\n",
    "\n",
    "# Generate Data\n",
    "Because we don't have access to the original data used in the journal, we generate it and store it into 'synthetic_patient_data.csv'. Note that the journal takes into account Patient ID, Entry Time, Treatment Time, Pain Score, Urgency Score, and Nocturnal Frequency."
   ]
  },
  {
   "cell_type": "code",
   "execution_count": 1,
   "metadata": {},
   "outputs": [],
   "source": [
    "# Import Libraries\n",
    "import pandas as pd\n",
    "import numpy as np\n",
    "from sklearn.neighbors import NearestNeighbors\n",
    "import os\n",
    "\n",
    "# Generate Synthetic Data\n",
    "np.random.seed(42)\n",
    "num_patients = 400\n",
    "\n",
    "data = {\n",
    "    \"Patient_ID\": range(1, num_patients + 1),\n",
    "    \"Entry_Time\": np.random.randint(0, 48, num_patients),\n",
    "    \"Treatment_Time\": np.random.choice([np.nan] + list(range(6, 48, 3)), num_patients, p=[0.3] + [0.7/14]*14),\n",
    "    \"Pain_Score\": np.random.randint(0, 10, num_patients),\n",
    "    \"Urgency_Score\": np.random.randint(0, 10, num_patients),\n",
    "    \"Nocturnal_Frequency\": np.random.randint(1, 5, num_patients),\n",
    "    \"Pain_Score_3M\": np.random.randint(0, 10, num_patients),  # Adding 3M Pain Score\n",
    "    \"Pain_Score_6M\": np.random.randint(0, 10, num_patients),  # Adding 6M Pain Score\n",
    "    \"Urgency_Score_3M\": np.random.randint(0, 10, num_patients),  # Adding 3M Urgency Score\n",
    "    \"Urgency_Score_6M\": np.random.randint(0, 10, num_patients),  # Adding 6M Urgency Score\n",
    "    \"Nocturnal_Frequency_3M\": np.random.randint(1, 5, num_patients),  # Adding 3M Nocturnal Frequency\n",
    "    \"Nocturnal_Frequency_6M\": np.random.randint(1, 5, num_patients),  # Adding 6M Nocturnal Frequency\n",
    "}\n",
    "\n",
    "df = pd.DataFrame(data)\n",
    "\n",
    "# Save file properly\n",
    "csv_path = \"./synthetic_patient_data.csv\"\n",
    "df.to_csv(csv_path, index=False)"
   ]
  },
  {
   "cell_type": "markdown",
   "metadata": {},
   "source": [
    "# Risk Set Matching\n",
    "The goal of Risk Set Matching is to match the treated patients to similar untreated patients based on the symptoms at the time of treatment. We implement this using nearest neighbor matching."
   ]
  },
  {
   "cell_type": "code",
   "execution_count": null,
   "metadata": {},
   "outputs": [],
   "source": [
    "# Risk Set Matching\n",
    "treated = df.dropna(subset=[\"Treatment_Time\"]).copy()\n",
    "untreated = df[df[\"Treatment_Time\"].isna()].copy()\n",
    "features = [\"Pain_Score\", \"Urgency_Score\", \"Nocturnal_Frequency\"]\n",
    "\n",
    "nn = NearestNeighbors(n_neighbors=1, metric=\"euclidean\")\n",
    "nn.fit(untreated[features])\n",
    "distances, indices = nn.kneighbors(treated[features])\n",
    "\n",
    "# Fix SettingWithCopyWarning\n",
    "treated.loc[:, \"Matched_Control_ID\"] = untreated.iloc[indices.flatten()][\"Patient_ID\"].values"
   ]
  },
  {
   "cell_type": "code",
   "execution_count": 3,
   "metadata": {},
   "outputs": [
    {
     "name": "stdout",
     "output_type": "stream",
     "text": [
      "   Patient_ID_Treated  Treatment_Time  Pain_Score_Treated  \\\n",
      "0                   1            30.0                   3   \n",
      "1                   2            33.0                   5   \n",
      "2                   3            39.0                   5   \n",
      "3                   4             6.0                   0   \n",
      "4                   5             9.0                   7   \n",
      "5                   7            21.0                   2   \n",
      "6                   9            15.0                   1   \n",
      "7                  10            18.0                   7   \n",
      "8                  12            21.0                   2   \n",
      "9                  15            36.0                   9   \n",
      "\n",
      "   Urgency_Score_Treated  Nocturnal_Frequency_Treated  Matched_Control_ID  \\\n",
      "0                      8                            3                 343   \n",
      "1                      9                            3                 388   \n",
      "2                      1                            3                 389   \n",
      "3                      4                            1                  23   \n",
      "4                      8                            4                 179   \n",
      "5                      7                            2                 130   \n",
      "6                      0                            2                 324   \n",
      "7                      8                            2                 156   \n",
      "8                      9                            3                 100   \n",
      "9                      2                            1                 393   \n",
      "\n",
      "   Patient_ID_Control  Pain_Score_Control  Urgency_Score_Control  \\\n",
      "0                 343                   3                      8   \n",
      "1                 388                   5                      8   \n",
      "2                 389                   5                      1   \n",
      "3                  23                   0                      4   \n",
      "4                 179                   7                      8   \n",
      "5                 130                   1                      7   \n",
      "6                 324                   0                      0   \n",
      "7                 156                   7                      8   \n",
      "8                 100                   2                      8   \n",
      "9                 393                   9                      3   \n",
      "\n",
      "   Nocturnal_Frequency_Control  \n",
      "0                            2  \n",
      "1                            3  \n",
      "2                            3  \n",
      "3                            1  \n",
      "4                            3  \n",
      "5                            2  \n",
      "6                            2  \n",
      "7                            2  \n",
      "8                            3  \n",
      "9                            2  \n"
     ]
    }
   ],
   "source": [
    "# First 10 Matched Pairs from Risk Set Matching\n",
    "\n",
    "# Display treated patients with their matched controls\n",
    "matched_df = treated[[\"Patient_ID\", \"Treatment_Time\", \"Pain_Score\", \"Urgency_Score\", \"Nocturnal_Frequency\", \"Matched_Control_ID\"]].copy()\n",
    "\n",
    "# Merge matched controls into the same table\n",
    "matched_df = matched_df.merge(\n",
    "    untreated[[\"Patient_ID\", \"Pain_Score\", \"Urgency_Score\", \"Nocturnal_Frequency\"]],\n",
    "    left_on=\"Matched_Control_ID\",\n",
    "    right_on=\"Patient_ID\",\n",
    "    suffixes=(\"_Treated\", \"_Control\")\n",
    ")\n",
    "\n",
    "print(matched_df.head(10))  # Show first 10 matched pairs"
   ]
  },
  {
   "cell_type": "markdown",
   "metadata": {},
   "source": [
    "# Balance Checking\n",
    "Blanace checking compares the distribution of features (pain score, urgency score, nocturnal frequency) between treated and matched control groups. We use statistical tests (paired t-tests) to assess balance."
   ]
  },
  {
   "cell_type": "code",
   "execution_count": 4,
   "metadata": {},
   "outputs": [
    {
     "name": "stdout",
     "output_type": "stream",
     "text": [
      "Balance Check for Pain_Score: t-statistic = 4.198495294301713, p-value = 3.643689873438879e-05\n",
      "Balance Check for Urgency_Score: t-statistic = 0.7028742237159482, p-value = 0.48273526384524446\n",
      "Balance Check for Nocturnal_Frequency: t-statistic = 1.8192911600747042, p-value = 0.06996638779862945\n"
     ]
    }
   ],
   "source": [
    "from scipy.stats import ttest_rel\n",
    "\n",
    "# Balance Checking (Paired t-tests)\n",
    "def balance_check(matched_df):\n",
    "    features = [\"Pain_Score\", \"Urgency_Score\", \"Nocturnal_Frequency\"]\n",
    "    results = {}\n",
    "    \n",
    "    for feature in features:\n",
    "        treated_feature = matched_df[f\"{feature}_Treated\"]\n",
    "        control_feature = matched_df[f\"{feature}_Control\"]\n",
    "        stat, p_value = ttest_rel(treated_feature, control_feature)\n",
    "        results[feature] = {\n",
    "            \"t-statistic\": stat,\n",
    "            \"p-value\": p_value\n",
    "        }\n",
    "    \n",
    "    return results\n",
    "\n",
    "balance_results = balance_check(matched_df)\n",
    "for feature, result in balance_results.items():\n",
    "    print(f\"Balance Check for {feature}: t-statistic = {result['t-statistic']}, p-value = {result['p-value']}\")"
   ]
  },
  {
   "cell_type": "markdown",
   "metadata": {},
   "source": [
    "# Sensitivity Analysis\n",
    "Sensitivity analysis evaluates how sensitive the treatment effect is to the choice of matched controls. One common approach is to adjust the number of neighbors and examine changes in matched pairs."
   ]
  },
  {
   "cell_type": "code",
   "execution_count": 5,
   "metadata": {},
   "outputs": [
    {
     "name": "stdout",
     "output_type": "stream",
     "text": [
      "Number of pairs for 1 neighbors: 273\n",
      "Number of pairs for 2 neighbors: 546\n",
      "Number of pairs for 3 neighbors: 819\n",
      "Number of pairs for 4 neighbors: 1092\n",
      "Number of pairs for 5 neighbors: 1365\n"
     ]
    }
   ],
   "source": [
    "# Sensitivity Analysis (Varying number of neighbors)\n",
    "def sensitivity_analysis(treated, untreated, features, max_neighbors=5):\n",
    "    sensitivity_results = {}\n",
    "    \n",
    "    for n_neighbors in range(1, max_neighbors + 1):\n",
    "        nn = NearestNeighbors(n_neighbors=n_neighbors, metric=\"euclidean\")\n",
    "        nn.fit(untreated[features])\n",
    "        distances, indices = nn.kneighbors(treated[features])\n",
    "        \n",
    "        # Create a list of matched control IDs for each treated patient\n",
    "        matched_control_ids = untreated.iloc[indices.flatten()][\"Patient_ID\"].values\n",
    "        \n",
    "        # Adjust for multiple neighbors per treated patient\n",
    "        matched_df = treated.copy()\n",
    "        matched_df[\"Matched_Control_ID\"] = [matched_control_ids[i:i+n_neighbors] for i in range(0, len(matched_control_ids), n_neighbors)]\n",
    "        \n",
    "        # Store the total number of matched pairs for each neighbor count\n",
    "        sensitivity_results[n_neighbors] = len(matched_control_ids)\n",
    "    \n",
    "    return sensitivity_results\n",
    "\n",
    "sensitivity_results = sensitivity_analysis(treated, untreated, features)\n",
    "for n_neighbors, num_pairs in sensitivity_results.items():\n",
    "    print(f\"Number of pairs for {n_neighbors} neighbors: {num_pairs}\")"
   ]
  },
  {
   "cell_type": "markdown",
   "metadata": {},
   "source": [
    "# Outcome Analysis\n",
    "This examines the outcome after treatment. In this case, we evaluate how matched controls perform compared to treated patients on various health outcomes (pain reduction, urgency reduction)"
   ]
  },
  {
   "cell_type": "code",
   "execution_count": 9,
   "metadata": {},
   "outputs": [
    {
     "name": "stdout",
     "output_type": "stream",
     "text": [
      "Mean difference in Pain Score between treated and control: 0.13186813186813187\n"
     ]
    },
    {
     "ename": "KeyError",
     "evalue": "\"The following id_vars or value_vars are not present in the DataFrame: ['Pain_Score_Treatment', 'Urgency_Score_Treatment', 'Nocturnal_Frequency_Treatment']\"",
     "output_type": "error",
     "traceback": [
      "\u001b[0;31m---------------------------------------------------------------------------\u001b[0m",
      "\u001b[0;31mKeyError\u001b[0m                                  Traceback (most recent call last)",
      "Cell \u001b[0;32mIn[9], line 35\u001b[0m\n\u001b[1;32m     32\u001b[0m df[\u001b[38;5;124m\"\u001b[39m\u001b[38;5;124mNocturnal_Frequency_6M_Diff\u001b[39m\u001b[38;5;124m\"\u001b[39m] \u001b[38;5;241m=\u001b[39m df[\u001b[38;5;124m\"\u001b[39m\u001b[38;5;124mNocturnal_Frequency_6M\u001b[39m\u001b[38;5;124m\"\u001b[39m] \u001b[38;5;241m-\u001b[39m df[\u001b[38;5;124m\"\u001b[39m\u001b[38;5;124mNocturnal_Frequency_Baseline\u001b[39m\u001b[38;5;124m\"\u001b[39m]\n\u001b[1;32m     34\u001b[0m \u001b[38;5;66;03m# Reshaping the data for plotting\u001b[39;00m\n\u001b[0;32m---> 35\u001b[0m data_melted \u001b[38;5;241m=\u001b[39m \u001b[43mpd\u001b[49m\u001b[38;5;241;43m.\u001b[39;49m\u001b[43mmelt\u001b[49m\u001b[43m(\u001b[49m\u001b[43mdf\u001b[49m\u001b[43m,\u001b[49m\u001b[43m \u001b[49m\u001b[43mid_vars\u001b[49m\u001b[38;5;241;43m=\u001b[39;49m\u001b[43m[\u001b[49m\u001b[38;5;124;43m\"\u001b[39;49m\u001b[38;5;124;43mPatient_ID\u001b[39;49m\u001b[38;5;124;43m\"\u001b[39;49m\u001b[43m]\u001b[49m\u001b[43m,\u001b[49m\u001b[43m \u001b[49m\n\u001b[1;32m     36\u001b[0m \u001b[43m                      \u001b[49m\u001b[43mvalue_vars\u001b[49m\u001b[38;5;241;43m=\u001b[39;49m\u001b[43m[\u001b[49m\u001b[38;5;124;43m\"\u001b[39;49m\u001b[38;5;124;43mPain_Score_Baseline\u001b[39;49m\u001b[38;5;124;43m\"\u001b[39;49m\u001b[43m,\u001b[49m\u001b[43m \u001b[49m\u001b[38;5;124;43m\"\u001b[39;49m\u001b[38;5;124;43mPain_Score_Treatment\u001b[39;49m\u001b[38;5;124;43m\"\u001b[39;49m\u001b[43m,\u001b[49m\u001b[43m \u001b[49m\u001b[38;5;124;43m\"\u001b[39;49m\u001b[38;5;124;43mPain_Score_3M\u001b[39;49m\u001b[38;5;124;43m\"\u001b[39;49m\u001b[43m,\u001b[49m\u001b[43m \u001b[49m\u001b[38;5;124;43m\"\u001b[39;49m\u001b[38;5;124;43mPain_Score_6M\u001b[39;49m\u001b[38;5;124;43m\"\u001b[39;49m\u001b[43m,\u001b[49m\u001b[43m \u001b[49m\n\u001b[1;32m     37\u001b[0m \u001b[43m                                  \u001b[49m\u001b[38;5;124;43m\"\u001b[39;49m\u001b[38;5;124;43mPain_Score_3M_Diff\u001b[39;49m\u001b[38;5;124;43m\"\u001b[39;49m\u001b[43m,\u001b[49m\u001b[43m \u001b[49m\u001b[38;5;124;43m\"\u001b[39;49m\u001b[38;5;124;43mPain_Score_6M_Diff\u001b[39;49m\u001b[38;5;124;43m\"\u001b[39;49m\u001b[43m,\u001b[49m\u001b[43m \u001b[49m\n\u001b[1;32m     38\u001b[0m \u001b[43m                                  \u001b[49m\u001b[38;5;124;43m\"\u001b[39;49m\u001b[38;5;124;43mUrgency_Score_Baseline\u001b[39;49m\u001b[38;5;124;43m\"\u001b[39;49m\u001b[43m,\u001b[49m\u001b[43m \u001b[49m\u001b[38;5;124;43m\"\u001b[39;49m\u001b[38;5;124;43mUrgency_Score_Treatment\u001b[39;49m\u001b[38;5;124;43m\"\u001b[39;49m\u001b[43m,\u001b[49m\u001b[43m \u001b[49m\u001b[38;5;124;43m\"\u001b[39;49m\u001b[38;5;124;43mUrgency_Score_3M\u001b[39;49m\u001b[38;5;124;43m\"\u001b[39;49m\u001b[43m,\u001b[49m\u001b[43m \u001b[49m\u001b[38;5;124;43m\"\u001b[39;49m\u001b[38;5;124;43mUrgency_Score_6M\u001b[39;49m\u001b[38;5;124;43m\"\u001b[39;49m\u001b[43m,\u001b[49m\u001b[43m \u001b[49m\n\u001b[1;32m     39\u001b[0m \u001b[43m                                  \u001b[49m\u001b[38;5;124;43m\"\u001b[39;49m\u001b[38;5;124;43mUrgency_Score_3M_Diff\u001b[39;49m\u001b[38;5;124;43m\"\u001b[39;49m\u001b[43m,\u001b[49m\u001b[43m \u001b[49m\u001b[38;5;124;43m\"\u001b[39;49m\u001b[38;5;124;43mUrgency_Score_6M_Diff\u001b[39;49m\u001b[38;5;124;43m\"\u001b[39;49m\u001b[43m,\u001b[49m\u001b[43m \u001b[49m\n\u001b[1;32m     40\u001b[0m \u001b[43m                                  \u001b[49m\u001b[38;5;124;43m\"\u001b[39;49m\u001b[38;5;124;43mNocturnal_Frequency_Baseline\u001b[39;49m\u001b[38;5;124;43m\"\u001b[39;49m\u001b[43m,\u001b[49m\u001b[43m \u001b[49m\u001b[38;5;124;43m\"\u001b[39;49m\u001b[38;5;124;43mNocturnal_Frequency_Treatment\u001b[39;49m\u001b[38;5;124;43m\"\u001b[39;49m\u001b[43m,\u001b[49m\u001b[43m \u001b[49m\u001b[38;5;124;43m\"\u001b[39;49m\u001b[38;5;124;43mNocturnal_Frequency_3M\u001b[39;49m\u001b[38;5;124;43m\"\u001b[39;49m\u001b[43m,\u001b[49m\u001b[43m \u001b[49m\n\u001b[1;32m     41\u001b[0m \u001b[43m                                  \u001b[49m\u001b[38;5;124;43m\"\u001b[39;49m\u001b[38;5;124;43mNocturnal_Frequency_6M\u001b[39;49m\u001b[38;5;124;43m\"\u001b[39;49m\u001b[43m,\u001b[49m\u001b[43m \u001b[49m\u001b[38;5;124;43m\"\u001b[39;49m\u001b[38;5;124;43mNocturnal_Frequency_3M_Diff\u001b[39;49m\u001b[38;5;124;43m\"\u001b[39;49m\u001b[43m,\u001b[49m\u001b[43m \u001b[49m\u001b[38;5;124;43m\"\u001b[39;49m\u001b[38;5;124;43mNocturnal_Frequency_6M_Diff\u001b[39;49m\u001b[38;5;124;43m\"\u001b[39;49m\u001b[43m]\u001b[49m\u001b[43m,\u001b[49m\n\u001b[1;32m     42\u001b[0m \u001b[43m                      \u001b[49m\u001b[43mvar_name\u001b[49m\u001b[38;5;241;43m=\u001b[39;49m\u001b[38;5;124;43m\"\u001b[39;49m\u001b[38;5;124;43mTimepoint_Feature\u001b[39;49m\u001b[38;5;124;43m\"\u001b[39;49m\u001b[43m,\u001b[49m\u001b[43m \u001b[49m\u001b[43mvalue_name\u001b[49m\u001b[38;5;241;43m=\u001b[39;49m\u001b[38;5;124;43m\"\u001b[39;49m\u001b[38;5;124;43mScore\u001b[39;49m\u001b[38;5;124;43m\"\u001b[39;49m\u001b[43m)\u001b[49m\n\u001b[1;32m     44\u001b[0m \u001b[38;5;66;03m# Create a box plot\u001b[39;00m\n\u001b[1;32m     45\u001b[0m plt\u001b[38;5;241m.\u001b[39mfigure(figsize\u001b[38;5;241m=\u001b[39m(\u001b[38;5;241m12\u001b[39m, \u001b[38;5;241m8\u001b[39m))\n",
      "File \u001b[0;32m/Library/Frameworks/Python.framework/Versions/3.13/lib/python3.13/site-packages/pandas/core/reshape/melt.py:74\u001b[0m, in \u001b[0;36mmelt\u001b[0;34m(frame, id_vars, value_vars, var_name, value_name, col_level, ignore_index)\u001b[0m\n\u001b[1;32m     70\u001b[0m \u001b[38;5;28;01mif\u001b[39;00m missing\u001b[38;5;241m.\u001b[39many():\n\u001b[1;32m     71\u001b[0m     missing_labels \u001b[38;5;241m=\u001b[39m [\n\u001b[1;32m     72\u001b[0m         lab \u001b[38;5;28;01mfor\u001b[39;00m lab, not_found \u001b[38;5;129;01min\u001b[39;00m \u001b[38;5;28mzip\u001b[39m(labels, missing) \u001b[38;5;28;01mif\u001b[39;00m not_found\n\u001b[1;32m     73\u001b[0m     ]\n\u001b[0;32m---> 74\u001b[0m     \u001b[38;5;28;01mraise\u001b[39;00m \u001b[38;5;167;01mKeyError\u001b[39;00m(\n\u001b[1;32m     75\u001b[0m         \u001b[38;5;124m\"\u001b[39m\u001b[38;5;124mThe following id_vars or value_vars are not present in \u001b[39m\u001b[38;5;124m\"\u001b[39m\n\u001b[1;32m     76\u001b[0m         \u001b[38;5;124mf\u001b[39m\u001b[38;5;124m\"\u001b[39m\u001b[38;5;124mthe DataFrame: \u001b[39m\u001b[38;5;132;01m{\u001b[39;00mmissing_labels\u001b[38;5;132;01m}\u001b[39;00m\u001b[38;5;124m\"\u001b[39m\n\u001b[1;32m     77\u001b[0m     )\n\u001b[1;32m     78\u001b[0m \u001b[38;5;28;01mif\u001b[39;00m value_vars_was_not_none:\n\u001b[1;32m     79\u001b[0m     frame \u001b[38;5;241m=\u001b[39m frame\u001b[38;5;241m.\u001b[39miloc[:, algos\u001b[38;5;241m.\u001b[39munique(idx)]\n",
      "\u001b[0;31mKeyError\u001b[0m: \"The following id_vars or value_vars are not present in the DataFrame: ['Pain_Score_Treatment', 'Urgency_Score_Treatment', 'Nocturnal_Frequency_Treatment']\""
     ]
    }
   ],
   "source": [
    "import pandas as pd\n",
    "import matplotlib.pyplot as plt\n",
    "import seaborn as sns\n",
    "\n",
    "# Assuming 'df' is your DataFrame and contains relevant columns\n",
    "\n",
    "# Add Baseline Columns (if not already present)\n",
    "df[\"Pain_Score_Baseline\"] = df[\"Pain_Score\"]\n",
    "df[\"Urgency_Score_Baseline\"] = df[\"Urgency_Score\"]\n",
    "df[\"Nocturnal_Frequency_Baseline\"] = df[\"Nocturnal_Frequency\"]\n",
    "\n",
    "# Outcome Analysis (Comparing outcomes between treated and control)\n",
    "def outcome_analysis(matched_df):\n",
    "    # Here, we would assess the difference in outcomes between treated and matched controls.\n",
    "    # As an example, we'll just calculate the mean difference in Pain Scores.\n",
    "    treated_pain_scores = matched_df[\"Pain_Score_Treated\"]\n",
    "    control_pain_scores = matched_df[\"Pain_Score_Control\"]\n",
    "    difference = treated_pain_scores - control_pain_scores\n",
    "    \n",
    "    mean_difference = difference.mean()\n",
    "    print(f\"Mean difference in Pain Score between treated and control: {mean_difference}\")\n",
    "    return mean_difference\n",
    "\n",
    "outcome_result = outcome_analysis(matched_df)\n",
    "\n",
    "# Calculate the differences at 3M and 6M for each feature\n",
    "df[\"Pain_Score_3M_Diff\"] = df[\"Pain_Score_3M\"] - df[\"Pain_Score_Baseline\"]\n",
    "df[\"Pain_Score_6M_Diff\"] = df[\"Pain_Score_6M\"] - df[\"Pain_Score_Baseline\"]\n",
    "df[\"Urgency_Score_3M_Diff\"] = df[\"Urgency_Score_3M\"] - df[\"Urgency_Score_Baseline\"]\n",
    "df[\"Urgency_Score_6M_Diff\"] = df[\"Urgency_Score_6M\"] - df[\"Urgency_Score_Baseline\"]\n",
    "df[\"Nocturnal_Frequency_3M_Diff\"] = df[\"Nocturnal_Frequency_3M\"] - df[\"Nocturnal_Frequency_Baseline\"]\n",
    "df[\"Nocturnal_Frequency_6M_Diff\"] = df[\"Nocturnal_Frequency_6M\"] - df[\"Nocturnal_Frequency_Baseline\"]\n",
    "\n",
    "# Reshaping the data for plotting\n",
    "data_melted = pd.melt(df, id_vars=[\"Patient_ID\"], \n",
    "                      value_vars=[\"Pain_Score_Baseline\", \"Pain_Score_Treatment\", \"Pain_Score_3M\", \"Pain_Score_6M\", \n",
    "                                  \"Pain_Score_3M_Diff\", \"Pain_Score_6M_Diff\", \n",
    "                                  \"Urgency_Score_Baseline\", \"Urgency_Score_Treatment\", \"Urgency_Score_3M\", \"Urgency_Score_6M\", \n",
    "                                  \"Urgency_Score_3M_Diff\", \"Urgency_Score_6M_Diff\", \n",
    "                                  \"Nocturnal_Frequency_Baseline\", \"Nocturnal_Frequency_Treatment\", \"Nocturnal_Frequency_3M\", \n",
    "                                  \"Nocturnal_Frequency_6M\", \"Nocturnal_Frequency_3M_Diff\", \"Nocturnal_Frequency_6M_Diff\"],\n",
    "                      var_name=\"Timepoint_Feature\", value_name=\"Score\")\n",
    "\n",
    "# Create a box plot\n",
    "plt.figure(figsize=(12, 8))\n",
    "sns.boxplot(x=\"Timepoint_Feature\", y=\"Score\", data=data_melted, palette=\"Set3\")\n",
    "\n",
    "# Rotate x-axis labels for readability\n",
    "plt.xticks(rotation=90)\n",
    "\n",
    "# Add title and labels\n",
    "plt.title(\"Box Plot for Pain Score, Urgency Score, and Nocturnal Frequency\")\n",
    "plt.xlabel(\"Time Point and Feature\")\n",
    "plt.ylabel(\"Score\")\n",
    "\n",
    "# Show the plot\n",
    "plt.tight_layout()\n",
    "plt.show()"
   ]
  },
  {
   "cell_type": "code",
   "execution_count": null,
   "metadata": {},
   "outputs": [],
   "source": []
  }
 ],
 "metadata": {
  "kernelspec": {
   "display_name": "Python 3 (ipykernel)",
   "language": "python",
   "name": "python3"
  },
  "language_info": {
   "codemirror_mode": {
    "name": "ipython",
    "version": 3
   },
   "file_extension": ".py",
   "mimetype": "text/x-python",
   "name": "python",
   "nbconvert_exporter": "python",
   "pygments_lexer": "ipython3",
   "version": "3.13.2"
  }
 },
 "nbformat": 4,
 "nbformat_minor": 4
}
